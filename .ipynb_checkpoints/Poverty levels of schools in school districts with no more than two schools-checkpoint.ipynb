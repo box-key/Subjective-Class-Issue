{
 "cells": [
  {
   "cell_type": "code",
   "execution_count": 1,
   "metadata": {},
   "outputs": [],
   "source": [
    "# Initialization cell\n",
    "path_to_project_info = 'C:\\\\Users\\\\under\\\\Jupyter Projects\\\\My Research\\\\Donor Charity Matching\\\\data_donorschoose\\\\opendata_project000.gz'\n",
    "path_to_project_descriptions = 'C:\\\\Users\\\\under\\\\Jupyter Projects\\\\My Research\\\\Donor Charity Matching\\\\data_donorschoose\\\\opendata_essays000.gz'\n",
    "path_to_poverty_level = 'C:\\\\Users\\\\under\\\\Jupyter Projects\\\\Datasets\\\\Poverty Level by School District\\\\poverty_level.csv'\n",
    "path_to_school_district = 'C:\\\\Users\\\\under\\\\Jupyter Projects\\\\Datasets\\\\Poverty Level by School District\\\\school_data_2017-2018_from_nces.xlsx'"
   ]
  },
  {
   "cell_type": "code",
   "execution_count": 2,
   "metadata": {},
   "outputs": [],
   "source": [
    "# Imports\n",
    "import numpy as np\n",
    "import pandas as pd\n",
    "import math\n",
    "from collections import Counter\n",
    "import matplotlib.pyplot as plt\n",
    "import seaborn as sns"
   ]
  },
  {
   "cell_type": "code",
   "execution_count": 3,
   "metadata": {},
   "outputs": [],
   "source": [
    "def plotCounter(count, title='', x_size=5, y_size=5):\n",
    "    label_names = [str(key) for key in count.keys()]\n",
    "    sns.set(font_scale = 2)\n",
    "    plt.figure(figsize=(x_size, y_size))\n",
    "    ax= sns.barplot(list(count.keys()), list(count.values()))\n",
    "    plt.title(title, fontsize=24)\n",
    "    plt.xlabel('Class', fontsize=18)\n",
    "    plt.ylabel('# of examples', fontsize=18)\n",
    "    plt.show()"
   ]
  },
  {
   "cell_type": "code",
   "execution_count": 4,
   "metadata": {},
   "outputs": [],
   "source": [
    "poverty_level = pd.read_csv(path_to_poverty_level)\n",
    "# Drop empty rows\n",
    "poverty_level.dropna(axis=0, how='all', inplace=True)\n",
    "# print(poverty_level.columns)"
   ]
  },
  {
   "cell_type": "code",
   "execution_count": 5,
   "metadata": {},
   "outputs": [],
   "source": [
    "# Convert the csv file to multi-label csv\n",
    "school_district = pd.read_excel(path_to_school_district)\n",
    "# Drop empty rows\n",
    "school_district.dropna(axis=0, how='all', inplace=True)\n",
    "# print(school_district.columns)"
   ]
  },
  {
   "cell_type": "code",
   "execution_count": 6,
   "metadata": {},
   "outputs": [],
   "source": [
    "# Convert the csv file to multi-label csv\n",
    "info = pd.read_csv(path_to_project_info, escapechar='\\\\', names=['_projectid', '_teacher_acctid', '_schoolid', 'school_ncesid', 'school_latitude', 'school_longitude', 'school_city', 'school_state', 'school_zip', 'school_metro', 'school_district', 'school_county', 'school_charter', 'school_magnet', 'school_year_round', 'school_nlns', 'school_kipp', 'school_charter_ready_promise', 'teacher_prefix', 'teacher_teach_for_america', 'teacher_ny_teaching_fellow', 'primary_focus_subject', 'primary_focus_area' ,'secondary_focus_subject', 'secondary_focus_area', 'resource_type', 'poverty_level', 'grade_level', 'vendor_shipping_charges', 'sales_tax', 'payment_processing_charges', 'fulfillment_labor_materials', 'total_price_excluding_optional_support', 'total_price_including_optional_support', 'students_reached', 'total_donations', 'num_donors', 'eligible_double_your_impact_match', 'eligible_almost_home_match', 'funding_status', 'date_posted', 'date_completed', 'date_thank_you_packet_mailed', 'date_expiration'])\n",
    "desc = pd.read_csv(path_to_project_descriptions, escapechar='\\\\', names=['_projectid', '_teacherid', 'title', 'short_description', 'need_statement', 'essay', 'thankyou_note', 'impact_letter'])\n",
    "# Drop empty rows\n",
    "info.dropna(axis=0, how='all', inplace=True)\n",
    "desc.dropna(axis=0, how='all', inplace=True)\n",
    "# Merge info and description tables \n",
    "df_donorschoose = info.merge(desc, on='_projectid', how='inner')"
   ]
  },
  {
   "cell_type": "code",
   "execution_count": 7,
   "metadata": {},
   "outputs": [
    {
     "data": {
      "text/plain": [
       "0    360009702803.0\n",
       "1    360007700585.0\n",
       "2    360007702569.0\n",
       "Name: school_ncesid, dtype: object"
      ]
     },
     "execution_count": 7,
     "metadata": {},
     "output_type": "execute_result"
    }
   ],
   "source": [
    "df_donorschoose['school_ncesid'].head(3).astype(str)"
   ]
  },
  {
   "cell_type": "code",
   "execution_count": 8,
   "metadata": {},
   "outputs": [],
   "source": [
    "## Helper functions\n",
    "def add0s(row):\n",
    "    zeros = '0'*(5-len(row))\n",
    "    return zeros + row\n",
    "\n",
    "def getLabel(row):\n",
    "    if row<0.25:\n",
    "        return 'low poverty'\n",
    "    elif 0.25<=row and row<0.5:\n",
    "        return 'moderate poverty'\n",
    "    elif 0.5<=row and row<0.75:\n",
    "        return 'high poverty'\n",
    "    elif 0.75<=row and row<1:\n",
    "        return 'highest poverty'\n",
    "    \n",
    "def relabelPovertyLevel(row, school_district_dict, poverty_level_dict):\n",
    "    # Get the School District ID of school\n",
    "    if row in school_district_dict:\n",
    "        agency_id = school_district_dict[row]\n",
    "    else:\n",
    "        return ''\n",
    "    # Get the poverty level of school\n",
    "    if agency_id in poverty_level_dict:\n",
    "        true_label = poverty_level_dict[agency_id]\n",
    "    else:\n",
    "        return ''\n",
    "    return true_label"
   ]
  },
  {
   "cell_type": "code",
   "execution_count": 9,
   "metadata": {},
   "outputs": [],
   "source": [
    "## Concatenate poverty level and school district by agency id\n",
    "# Remove rows containing non digit strings\n",
    "school_district = school_district.drop(school_district[school_district['Total Students (All Grades, Public School)'].str.isnumeric()==False].index)\n",
    "# Fill out N/As with 0, convert Total # students into int, and Agency ID into str\n",
    "school_district['Total Students (All Grades, Public School)'] = school_district['Total Students (All Grades, Public School)'].fillna(0).astype(int)\n",
    "school_district['Agency ID'] = school_district['Agency ID'].fillna(0).astype(int).astype(str)\n",
    "\n",
    "## Groupby school district by Agency ID and take the sum of total # of students\n",
    "# Group school district by Agency ID, then take the sum of # students\n",
    "agg = school_district.groupby('Agency ID').agg({'Total Students (All Grades, Public School)':'sum', 'Agency ID':'first'})\n",
    "# To check the result of concat, change the name of Agency ID column\n",
    "agg = agg.rename(columns={\"Agency ID\":\"Agency ID (Agg)\"})\n",
    "agg = agg.rename(columns={'Total Students (All Grades, Public School)':'Aggregated Total Students (All Grades, Public School)'})\n",
    "# Concatenate the sum column and grouped by school district \n",
    "school_district_agg = pd.concat([school_district.groupby('Agency ID').first().reset_index(), agg.reset_index()], axis=1)\n",
    "# Since there are 3 columns for Agency ID, drop two of them\n",
    "school_district_agg = school_district_agg.drop(columns='Agency ID')\n",
    "school_district_agg = school_district_agg.drop(columns='Total Students (All Grades, Public School)')\n",
    "# For join operation later, rename Agency ID column's name\n",
    "school_district_agg = school_district_agg.rename(columns ={\"Agency ID (Agg)\":\"Agency ID\"})\n",
    "# Convert Agency ID into the same format with school district\n",
    "poverty_level['Agency ID'] = poverty_level['State FIPS Code'].astype(str) + poverty_level['District ID'].astype(str).apply(add0s)\n",
    "\n",
    "## Join poverty level and schol discrict on their Agency IDs\n",
    "master = pd.merge(poverty_level, \n",
    "                  school_district_agg[['School Name', 'Agency ID', 'School NCESID', 'Agency Name', 'County Name', 'County Number', 'Aggregated Total Students (All Grades, Public School)']], \n",
    "                  how='inner', \n",
    "                  on='Agency ID')\n",
    "\n",
    "## Clean the table\n",
    "master[master['Aggregated Total Students (All Grades, Public School)']==0]\n",
    "master = master.drop(master[master['Aggregated Total Students (All Grades, Public School)']==0].index)\n",
    "master = master.drop(master[master['Estimated Population 5-17']==0].index)\n",
    "\n",
    "## Assign true poverty levels based on census data\n",
    "ratio =  master['Estimated number of relevant children 5 to 17 years old in poverty who are related to the householder'].str.replace(',','').astype(int)/(master['Aggregated Total Students (All Grades, Public School)'].astype(int))\n",
    "master['Poverty Level'] = ratio.apply(getLabel)\n",
    "school_district_dict = dict(zip(school_district['School NCESID'].fillna(0).astype(np.int64).astype(str).tolist(), \n",
    "                                 school_district['Agency ID'].fillna(0).astype(np.int64).astype(str).tolist()))\n",
    "poverty_level_dict = dict(zip(master['Agency ID'].fillna(0).astype(np.int64).astype(str).tolist(),\n",
    "                              master['Poverty Level'].tolist()))\n",
    "poverty_rate_dict = dict(zip(master['Agency ID'].fillna(0).astype(np.int64).astype(str).tolist(),\n",
    "                             master['Poverty Rate'].tolist()))\n",
    "df_donorschoose['true_poverty_level'] = df_donorschoose['school_ncesid'].fillna(0).astype(np.int64).astype(str).apply(relabelPovertyLevel, school_district_dict=school_district_dict, poverty_level_dict=poverty_level_dict)\n",
    "\n",
    "## Get the school district ID\n",
    "df_donorschoose['agency_id'] = df_donorschoose['school_ncesid'].fillna(0).astype(np.int64).astype(str).apply(lambda x: school_district_dict[x] if x in school_district_dict else '')\n",
    "df_donorschoose['poverty_rate'] = df_donorschoose['agency_id'].apply(lambda x: poverty_rate_dict[x] if x in poverty_level_dict else '')\n",
    "\n",
    "\n",
    "## Clean empty poverty levels\n",
    "df_donorschoose = df_donorschoose[df_donorschoose['true_poverty_level']!='']\n",
    "df_donorschoose = df_donorschoose.dropna(subset=['true_poverty_level'])"
   ]
  },
  {
   "cell_type": "code",
   "execution_count": 10,
   "metadata": {},
   "outputs": [],
   "source": [
    "def getSchoolDistrictsWithOneSchool(row, school_district_count_dict):\n",
    "    if row in school_district_count_dict:\n",
    "        if school_district_coun_dict[row] == 1:\n",
    "            return True\n",
    "    return False"
   ]
  },
  {
   "cell_type": "code",
   "execution_count": 11,
   "metadata": {},
   "outputs": [
    {
     "data": {
      "text/html": [
       "<div>\n",
       "<style scoped>\n",
       "    .dataframe tbody tr th:only-of-type {\n",
       "        vertical-align: middle;\n",
       "    }\n",
       "\n",
       "    .dataframe tbody tr th {\n",
       "        vertical-align: top;\n",
       "    }\n",
       "\n",
       "    .dataframe thead th {\n",
       "        text-align: right;\n",
       "    }\n",
       "</style>\n",
       "<table border=\"1\" class=\"dataframe\">\n",
       "  <thead>\n",
       "    <tr style=\"text-align: right;\">\n",
       "      <th></th>\n",
       "      <th>Agency ID</th>\n",
       "      <th>School Count</th>\n",
       "    </tr>\n",
       "  </thead>\n",
       "  <tbody>\n",
       "    <tr>\n",
       "      <th>0</th>\n",
       "      <td>0</td>\n",
       "      <td>0</td>\n",
       "    </tr>\n",
       "    <tr>\n",
       "      <th>1</th>\n",
       "      <td>1000004</td>\n",
       "      <td>1</td>\n",
       "    </tr>\n",
       "    <tr>\n",
       "      <th>2</th>\n",
       "      <td>1000005</td>\n",
       "      <td>1</td>\n",
       "    </tr>\n",
       "    <tr>\n",
       "      <th>3</th>\n",
       "      <td>1000006</td>\n",
       "      <td>1</td>\n",
       "    </tr>\n",
       "    <tr>\n",
       "      <th>4</th>\n",
       "      <td>1000007</td>\n",
       "      <td>1</td>\n",
       "    </tr>\n",
       "  </tbody>\n",
       "</table>\n",
       "</div>"
      ],
      "text/plain": [
       "  Agency ID  School Count\n",
       "0         0             0\n",
       "1   1000004             1\n",
       "2   1000005             1\n",
       "3   1000006             1\n",
       "4   1000007             1"
      ]
     },
     "execution_count": 11,
     "metadata": {},
     "output_type": "execute_result"
    }
   ],
   "source": [
    "school_district_count = school_district.groupby('Agency ID').agg({'School NCESID':'count'}).reset_index()\n",
    "school_district_count = school_district_count.rename(columns={\"School NCESID\":\"School Count\"})\n",
    "school_district_count_dict = dict(zip(school_district_count['Agency ID'].fillna(0).astype(np.int64).astype(str).tolist(),\n",
    "                                      school_district_count['School Count'].tolist()))\n",
    "school_district_count.head(5)"
   ]
  },
  {
   "cell_type": "code",
   "execution_count": 12,
   "metadata": {},
   "outputs": [
    {
     "data": {
      "text/plain": [
       "(5191, 2)"
      ]
     },
     "execution_count": 12,
     "metadata": {},
     "output_type": "execute_result"
    }
   ],
   "source": [
    "school_district_count[school_district_count['School Count']==1].shape"
   ]
  },
  {
   "cell_type": "code",
   "execution_count": 13,
   "metadata": {},
   "outputs": [],
   "source": [
    "df_donorschoose['School Count in District'] = df_donorschoose['agency_id'].fillna(0).astype(np.int64).astype(str).apply(lambda x: school_district_count_dict[x] if x in school_district_count_dict else '')"
   ]
  },
  {
   "cell_type": "code",
   "execution_count": 14,
   "metadata": {},
   "outputs": [
    {
     "name": "stdout",
     "output_type": "stream",
     "text": [
      "(24229, 55)\n"
     ]
    },
    {
     "data": {
      "text/html": [
       "<div>\n",
       "<style scoped>\n",
       "    .dataframe tbody tr th:only-of-type {\n",
       "        vertical-align: middle;\n",
       "    }\n",
       "\n",
       "    .dataframe tbody tr th {\n",
       "        vertical-align: top;\n",
       "    }\n",
       "\n",
       "    .dataframe thead th {\n",
       "        text-align: right;\n",
       "    }\n",
       "</style>\n",
       "<table border=\"1\" class=\"dataframe\">\n",
       "  <thead>\n",
       "    <tr style=\"text-align: right;\">\n",
       "      <th></th>\n",
       "      <th>_projectid</th>\n",
       "      <th>_teacher_acctid</th>\n",
       "      <th>_schoolid</th>\n",
       "      <th>school_ncesid</th>\n",
       "      <th>school_latitude</th>\n",
       "      <th>school_longitude</th>\n",
       "      <th>school_city</th>\n",
       "      <th>school_state</th>\n",
       "      <th>school_zip</th>\n",
       "      <th>school_metro</th>\n",
       "      <th>...</th>\n",
       "      <th>title</th>\n",
       "      <th>short_description</th>\n",
       "      <th>need_statement</th>\n",
       "      <th>essay</th>\n",
       "      <th>thankyou_note</th>\n",
       "      <th>impact_letter</th>\n",
       "      <th>true_poverty_level</th>\n",
       "      <th>agency_id</th>\n",
       "      <th>poverty_rate</th>\n",
       "      <th>School Count in District</th>\n",
       "    </tr>\n",
       "  </thead>\n",
       "  <tbody>\n",
       "    <tr>\n",
       "      <th>6047</th>\n",
       "      <td>af354bf7b28b072ba1c27db78f247db3</td>\n",
       "      <td>dede3503da6aad18e6ce4bce2b44d73e</td>\n",
       "      <td>e4c4a4307d842169fab30c060e3d95ad</td>\n",
       "      <td>6.223800e+10</td>\n",
       "      <td>37.43711</td>\n",
       "      <td>-122.212215</td>\n",
       "      <td>Atherton</td>\n",
       "      <td>CA</td>\n",
       "      <td>94027.0</td>\n",
       "      <td>suburban</td>\n",
       "      <td>...</td>\n",
       "      <td>Listen and Read</td>\n",
       "      <td>\"Our Students Love to Read!\" proclaims the sig...</td>\n",
       "      <td>The cost of this Listen and Read proposal, inc...</td>\n",
       "      <td>\"Our Students Love to Read!\" proclaims the sig...</td>\n",
       "      <td>NaN</td>\n",
       "      <td>NaN</td>\n",
       "      <td>low poverty</td>\n",
       "      <td>622380</td>\n",
       "      <td>0.038</td>\n",
       "      <td>2</td>\n",
       "    </tr>\n",
       "    <tr>\n",
       "      <th>6116</th>\n",
       "      <td>8a25d7ebadb962ec73fc76b241468550</td>\n",
       "      <td>611bf753546cee742d66349d902b2b31</td>\n",
       "      <td>e4c4a4307d842169fab30c060e3d95ad</td>\n",
       "      <td>6.223800e+10</td>\n",
       "      <td>37.43711</td>\n",
       "      <td>-122.212215</td>\n",
       "      <td>Atherton</td>\n",
       "      <td>CA</td>\n",
       "      <td>94027.0</td>\n",
       "      <td>suburban</td>\n",
       "      <td>...</td>\n",
       "      <td>Childhood Classics For My Class</td>\n",
       "      <td>I am a third grade teacher, back in the classr...</td>\n",
       "      <td>The cost of the classic books for my classroom...</td>\n",
       "      <td>I am a third grade teacher, back in the classr...</td>\n",
       "      <td>I want to thank you so very, very much for you...</td>\n",
       "      <td>NaN</td>\n",
       "      <td>low poverty</td>\n",
       "      <td>622380</td>\n",
       "      <td>0.038</td>\n",
       "      <td>2</td>\n",
       "    </tr>\n",
       "    <tr>\n",
       "      <th>6182</th>\n",
       "      <td>842d8ddd609f85c35813cf9be9c9b77d</td>\n",
       "      <td>c1f18f936a0b09d95c285bd50bf4b430</td>\n",
       "      <td>0be10c2167cb1566a2754a62376cacb1</td>\n",
       "      <td>6.314700e+10</td>\n",
       "      <td>37.36795</td>\n",
       "      <td>-122.212143</td>\n",
       "      <td>Portola Vally</td>\n",
       "      <td>CA</td>\n",
       "      <td>94028.0</td>\n",
       "      <td>rural</td>\n",
       "      <td>...</td>\n",
       "      <td>Help Students Create Exciting Science Projects</td>\n",
       "      <td>Our 4th through 8th graders will create projec...</td>\n",
       "      <td>The cost of this proposal for a variety of 19 ...</td>\n",
       "      <td>Our 4th through 8th graders create projects ba...</td>\n",
       "      <td>I am the librarian at Corte Madera School, a m...</td>\n",
       "      <td>NaN</td>\n",
       "      <td>low poverty</td>\n",
       "      <td>631470</td>\n",
       "      <td>0.015</td>\n",
       "      <td>2</td>\n",
       "    </tr>\n",
       "  </tbody>\n",
       "</table>\n",
       "<p>3 rows × 55 columns</p>\n",
       "</div>"
      ],
      "text/plain": [
       "                            _projectid                   _teacher_acctid  \\\n",
       "6047  af354bf7b28b072ba1c27db78f247db3  dede3503da6aad18e6ce4bce2b44d73e   \n",
       "6116  8a25d7ebadb962ec73fc76b241468550  611bf753546cee742d66349d902b2b31   \n",
       "6182  842d8ddd609f85c35813cf9be9c9b77d  c1f18f936a0b09d95c285bd50bf4b430   \n",
       "\n",
       "                             _schoolid  school_ncesid  school_latitude  \\\n",
       "6047  e4c4a4307d842169fab30c060e3d95ad   6.223800e+10         37.43711   \n",
       "6116  e4c4a4307d842169fab30c060e3d95ad   6.223800e+10         37.43711   \n",
       "6182  0be10c2167cb1566a2754a62376cacb1   6.314700e+10         37.36795   \n",
       "\n",
       "      school_longitude    school_city school_state  school_zip school_metro  \\\n",
       "6047       -122.212215       Atherton           CA     94027.0     suburban   \n",
       "6116       -122.212215       Atherton           CA     94027.0     suburban   \n",
       "6182       -122.212143  Portola Vally           CA     94028.0        rural   \n",
       "\n",
       "      ...                                           title  \\\n",
       "6047  ...                                 Listen and Read   \n",
       "6116  ...                 Childhood Classics For My Class   \n",
       "6182  ...  Help Students Create Exciting Science Projects   \n",
       "\n",
       "                                      short_description  \\\n",
       "6047  \"Our Students Love to Read!\" proclaims the sig...   \n",
       "6116  I am a third grade teacher, back in the classr...   \n",
       "6182  Our 4th through 8th graders will create projec...   \n",
       "\n",
       "                                         need_statement  \\\n",
       "6047  The cost of this Listen and Read proposal, inc...   \n",
       "6116  The cost of the classic books for my classroom...   \n",
       "6182  The cost of this proposal for a variety of 19 ...   \n",
       "\n",
       "                                                  essay  \\\n",
       "6047  \"Our Students Love to Read!\" proclaims the sig...   \n",
       "6116  I am a third grade teacher, back in the classr...   \n",
       "6182  Our 4th through 8th graders create projects ba...   \n",
       "\n",
       "                                          thankyou_note impact_letter  \\\n",
       "6047                                                NaN           NaN   \n",
       "6116  I want to thank you so very, very much for you...           NaN   \n",
       "6182  I am the librarian at Corte Madera School, a m...           NaN   \n",
       "\n",
       "     true_poverty_level agency_id poverty_rate School Count in District  \n",
       "6047        low poverty    622380        0.038                        2  \n",
       "6116        low poverty    622380        0.038                        2  \n",
       "6182        low poverty    631470        0.015                        2  \n",
       "\n",
       "[3 rows x 55 columns]"
      ]
     },
     "execution_count": 14,
     "metadata": {},
     "output_type": "execute_result"
    }
   ],
   "source": [
    "df_one_school = df_donorschoose[df_donorschoose['School Count in District']<=2]\n",
    "print(df_one_school.shape)\n",
    "df_one_school.head(3)"
   ]
  },
  {
   "cell_type": "code",
   "execution_count": 15,
   "metadata": {},
   "outputs": [],
   "source": [
    "with open('poverty_rate_donorschoose_one_school.csv', 'w', encoding=\"utf-8\", newline='\\n') as f:\n",
    "    df_one_school['poverty_rate'].to_csv(f, header=True, index=False)"
   ]
  },
  {
   "cell_type": "code",
   "execution_count": 16,
   "metadata": {},
   "outputs": [
    {
     "name": "stdout",
     "output_type": "stream",
     "text": [
      "Counter({'low poverty': 18300, 'moderate poverty': 5057, 'high poverty': 631, 'highest poverty': 241}) \n",
      "\n",
      "Counter({'low poverty': 619762, 'moderate poverty': 333615, 'high poverty': 33386, 'highest poverty': 842}) \n",
      "\n",
      "Counter({'high poverty': 10635, 'highest poverty': 7254, 'moderate poverty': 5082, 'low poverty': 1258})\n"
     ]
    }
   ],
   "source": [
    "print(Counter(df_one_school['true_poverty_level']), '\\n')\n",
    "print(Counter(df_donorschoose['true_poverty_level']), '\\n')\n",
    "print(Counter(df_one_school['poverty_level']))"
   ]
  },
  {
   "cell_type": "code",
   "execution_count": 24,
   "metadata": {
    "deletable": false,
    "editable": false,
    "run_control": {
     "frozen": true
    }
   },
   "outputs": [
    {
     "data": {
      "text/plain": [
       "Text(0, 0.5, 'Number of Projects')"
      ]
     },
     "execution_count": 24,
     "metadata": {},
     "output_type": "execute_result"
    },
    {
     "data": {
      "image/png": "[encoded data removed]",
      "text/plain": [
       "<Figure size 720x576 with 1 Axes>"
      ]
     },
     "metadata": {
      "needs_background": "light"
     },
     "output_type": "display_data"
    }
   ],
   "source": [
    "plt.figure(figsize=(10, 8))\n",
    "plt.bar(['low', 'moderate', 'high', 'highest'], [1258, 5082, 10635, 7254], width=0.6, color='chocolate')\n",
    "plt.xticks(fontsize=22)\n",
    "plt.yticks(fontsize=22)\n",
    "plt.xlabel('Poverty Level', fontsize=26)\n",
    "plt.ylabel('Number of Projects', fontsize=26)"
   ]
  },
  {
   "cell_type": "code",
   "execution_count": 17,
   "metadata": {
    "scrolled": false
   },
   "outputs": [
    {
     "data": {
      "image/png": "[encoded data removed]",
      "text/plain": [
       "<Figure size 504x504 with 2 Axes>"
      ]
     },
     "metadata": {
      "needs_background": "light"
     },
     "output_type": "display_data"
    }
   ],
   "source": [
    "%reload_ext autoreload\n",
    "from sklearn.metrics import confusion_matrix\n",
    "from mlxtend.plotting import plot_confusion_matrix\n",
    "from sklearn.preprocessing import LabelEncoder\n",
    "\n",
    "y =  LabelEncoder().fit_transform(df_one_school['poverty_level'])\n",
    "y_true = LabelEncoder().fit_transform(df_one_school['true_poverty_level'])\n",
    "\n",
    "plot_confusion_matrix(conf_mat=confusion_matrix(y, y_true)\n",
    "                     ,show_absolute=False\n",
    "                     ,show_normed=True\n",
    "                     ,colorbar=True\n",
    "                     ,class_names=['high', 'highest', 'low', 'moderate']\n",
    "                     ,figsize=(7, 7)\n",
    "                     ,fontsize=12\n",
    "                     ,font_bold=True\n",
    "                     ,cmap=plt.cm.Greens)\n",
    "plt.xlabel('True Poverty Level', fontsize=18)\n",
    "plt.ylabel('User-given Poverty Level', fontsize=18)\n",
    "plt.xticks(fontsize=16)\n",
    "plt.yticks(fontsize=16)\n",
    "plt.show()"
   ]
  },
  {
   "cell_type": "code",
   "execution_count": 34,
   "metadata": {
    "deletable": false,
    "editable": false,
    "run_control": {
     "frozen": true
    }
   },
   "outputs": [
    {
     "data": {
      "image/png": "[encoded data removed]",
      "text/plain": [
       "<Figure size 1080x504 with 2 Axes>"
      ]
     },
     "metadata": {
      "needs_background": "light"
     },
     "output_type": "display_data"
    }
   ],
   "source": [
    "%reload_ext autoreload\n",
    "y =  LabelEncoder().fit_transform(df_one_school['poverty_level'])\n",
    "y_true = LabelEncoder().fit_transform(df_one_school['true_poverty_level'])\n",
    "\n",
    "plot_confusion_matrix(conf_mat=confusion_matrix(y_true, y)\n",
    "                     ,show_absolute=True\n",
    "                     ,show_normed=True\n",
    "                     ,colorbar=True\n",
    "                     ,class_names=['high_p', 'highest_p', 'low_p', 'moderate_p']\n",
    "                     ,figsize=(15, 7))\n",
    "plt.title('User-given Poverty Level VS True Poverty Label')\n",
    "plt.xlabel('user-given poverty level')\n",
    "plt.ylabel('true poverty level')\n",
    "plt.show()"
   ]
  },
  {
   "cell_type": "code",
   "execution_count": null,
   "metadata": {},
   "outputs": [],
   "source": []
  }
 ],
 "metadata": {
  "kernelspec": {
   "display_name": "Python 3",
   "language": "python",
   "name": "python3"
  },
  "language_info": {
   "codemirror_mode": {
    "name": "ipython",
    "version": 3
   },
   "file_extension": ".py",
   "mimetype": "text/x-python",
   "name": "python",
   "nbconvert_exporter": "python",
   "pygments_lexer": "ipython3",
   "version": "3.7.3"
  }
 },
 "nbformat": 4,
 "nbformat_minor": 2
}
