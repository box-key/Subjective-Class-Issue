{
 "cells": [
  {
   "cell_type": "code",
   "execution_count": 5,
   "metadata": {},
   "outputs": [],
   "source": [
    "import os\n",
    "import sys\n",
    "module_path = os.path.abspath(os.path.join('C:\\\\Users\\\\under\\\\Jupyter Projects\\My Research\\\\Donor Charity Matching\\\\utilities'))\n",
    "if module_path not in sys.path:\n",
    "    sys.path.append(module_path)\n",
    "    \n",
    "path_all = 'C:\\\\Users\\\\under\\\\Jupyter Projects\\\\My Research\\\\Donor Charity Matching\\\\data_donorschoose\\\\donorschoose_primary_subject.csv'"
   ]
  },
  {
   "cell_type": "code",
   "execution_count": 24,
   "metadata": {},
   "outputs": [
    {
     "name": "stdout",
     "output_type": "stream",
     "text": [
      "The autoreload extension is already loaded. To reload it, use:\n",
      "  %reload_ext autoreload\n"
     ]
    }
   ],
   "source": [
    "import pandas as pd\n",
    "import numpy as np\n",
    "import Normalized_Feature_Indicative_Score as NFIS\n",
    "import TextPreprocessing as preprocesser\n",
    "%load_ext autoreload"
   ]
  },
  {
   "cell_type": "code",
   "execution_count": 7,
   "metadata": {},
   "outputs": [
    {
     "name": "stderr",
     "output_type": "stream",
     "text": [
      "C:\\Users\\under\\AppData\\Local\\Continuum\\anaconda3\\lib\\site-packages\\IPython\\core\\interactiveshell.py:3049: DtypeWarning: Columns (50) have mixed types. Specify dtype option on import or set low_memory=False.\n",
      "  interactivity=interactivity, compiler=compiler, result=result)\n"
     ]
    },
    {
     "name": "stdout",
     "output_type": "stream",
     "text": [
      "Number of rows in data = 1201597\n",
      "Number of columns in data = 52\n",
      "(229394, 52)\n",
      "(229370, 52)\n"
     ]
    }
   ],
   "source": [
    "# Import CSV data\n",
    "df_all = pd.read_csv(path_all)\n",
    "# Merge all texts into one cell\n",
    "df_all['all_texts'] = df_all['title'] + df_all['short_description'] + df_all['need_statement'] + df_all['essay']\n",
    "# Clean data\n",
    "df_all = df_all.dropna(subset=['all_texts'])\n",
    "print(\"Number of rows in data =\", df_all.shape[0])\n",
    "print(\"Number of columns in data =\", df_all.shape[1])\n",
    "# Keep descriptions contain only between 2500 and 4000 characters\n",
    "df_2540 = df_all[(2500 <= df_all['all_texts'].apply(len)) & (df_all['all_texts'].apply(len) < 4000)]\n",
    "# Drop empty celss\n",
    "print(df_2540.shape)\n",
    "df_2540 = df_2540.dropna(subset=['grade_level'])\n",
    "df_2540 = df_2540.dropna(subset=['poverty_level'])\n",
    "df_2540 = df_2540.dropna(subset=['primary_focus_area'])\n",
    "print(df_2540.shape)"
   ]
  },
  {
   "cell_type": "code",
   "execution_count": 14,
   "metadata": {},
   "outputs": [],
   "source": [
    "%autoreload 2\n",
    "from sklearn.feature_extraction.text import CountVectorizer\n",
    "\n",
    "X_texts = preprocesser.clean_corpora(df_2540['all_texts'], isLower=True, doesRemoveDigit=True, doesRemovePunc=True, doesRemoveStopWords=True, doesLemmatize=True)\n",
    "vectorizer = CountVectorizer(strip_accents='unicode', analyzer='word', ngram_range=(1,2), binary=True)\n",
    "X = vectorizer.fit_transform(X_texts)"
   ]
  },
  {
   "cell_type": "code",
   "execution_count": 26,
   "metadata": {},
   "outputs": [
    {
     "name": "stdout",
     "output_type": "stream",
     "text": [
      "Column 0 : 56006\n",
      "Column 1 : 135544\n",
      "Column 2 : 6190\n",
      "Column 3 : 31630\n",
      "['high poverty' 'highest poverty' 'low poverty' 'moderate poverty']\n"
     ]
    },
    {
     "name": "stderr",
     "output_type": "stream",
     "text": [
      "C:\\Users\\under\\AppData\\Local\\Continuum\\anaconda3\\lib\\site-packages\\matplotlib\\figure.py:2369: UserWarning: This figure includes Axes that are not compatible with tight_layout, so results might be incorrect.\n",
      "  warnings.warn(\"This figure includes Axes that are not compatible \"\n"
     ]
    },
    {
     "data": {
      "image/png": "[encoded data removed]",
      "text/plain": [
       "<Figure size 432x288 with 4 Axes>"
      ]
     },
     "metadata": {
      "needs_background": "light"
     },
     "output_type": "display_data"
    }
   ],
   "source": [
    "%autoreload 2\n",
    "y = df_2540['poverty_level']\n",
    "NFIS.plotScores(NFIS.getK_NFIS(X=X, y=y, k=100), row=2, col=2, bins=30)"
   ]
  },
  {
   "cell_type": "code",
   "execution_count": 27,
   "metadata": {},
   "outputs": [
    {
     "name": "stdout",
     "output_type": "stream",
     "text": [
      "Column 0 : 71351\n",
      "Column 1 : 43769\n",
      "Column 2 : 40748\n",
      "Column 3 : 73502\n",
      "['Grades 3-5' 'Grades 6-8' 'Grades 9-12' 'Grades PreK-2']\n"
     ]
    },
    {
     "name": "stderr",
     "output_type": "stream",
     "text": [
      "C:\\Users\\under\\AppData\\Local\\Continuum\\anaconda3\\lib\\site-packages\\matplotlib\\figure.py:2369: UserWarning: This figure includes Axes that are not compatible with tight_layout, so results might be incorrect.\n",
      "  warnings.warn(\"This figure includes Axes that are not compatible \"\n"
     ]
    },
    {
     "data": {
      "image/png": "[encoded data removed]",
      "text/plain": [
       "<Figure size 432x288 with 4 Axes>"
      ]
     },
     "metadata": {
      "needs_background": "light"
     },
     "output_type": "display_data"
    }
   ],
   "source": [
    "y = df_2540['grade_level']\n",
    "NFIS.plotScores(NFIS.getK_NFIS(X=X, y=y, k=100), row=2, col=2, bins=30)"
   ]
  },
  {
   "cell_type": "code",
   "execution_count": 30,
   "metadata": {},
   "outputs": [
    {
     "name": "stdout",
     "output_type": "stream",
     "text": [
      "Column 0 : 15012\n",
      "Column 1 : 9517\n",
      "Column 2 : 11117\n",
      "Column 3 : 91925\n",
      "Column 4 : 64536\n",
      "Column 5 : 20533\n",
      "Column 6 : 16730\n",
      "['Applied Learning' 'Health & Sports' 'History & Civics'\n",
      " 'Literacy & Language' 'Math & Science' 'Music & The Arts' 'Special Needs']\n"
     ]
    },
    {
     "name": "stderr",
     "output_type": "stream",
     "text": [
      "C:\\Users\\under\\AppData\\Local\\Continuum\\anaconda3\\lib\\site-packages\\matplotlib\\figure.py:2369: UserWarning: This figure includes Axes that are not compatible with tight_layout, so results might be incorrect.\n",
      "  warnings.warn(\"This figure includes Axes that are not compatible \"\n"
     ]
    },
    {
     "data": {
      "image/png": "[encoded data removed]",
      "text/plain": [
       "<Figure size 432x288 with 9 Axes>"
      ]
     },
     "metadata": {
      "needs_background": "light"
     },
     "output_type": "display_data"
    }
   ],
   "source": [
    "y = df_2540['primary_focus_area']\n",
    "NFIS.plotScores(NFIS.getK_NFIS(X=X, y=y, k=100), row=3, col=3, bins=30)"
   ]
  },
  {
   "cell_type": "code",
   "execution_count": null,
   "metadata": {},
   "outputs": [],
   "source": []
  }
 ],
 "metadata": {
  "kernelspec": {
   "display_name": "Python 3",
   "language": "python",
   "name": "python3"
  },
  "language_info": {
   "codemirror_mode": {
    "name": "ipython",
    "version": 3
   },
   "file_extension": ".py",
   "mimetype": "text/x-python",
   "name": "python",
   "nbconvert_exporter": "python",
   "pygments_lexer": "ipython3",
   "version": "3.7.3"
  }
 },
 "nbformat": 4,
 "nbformat_minor": 2
}
