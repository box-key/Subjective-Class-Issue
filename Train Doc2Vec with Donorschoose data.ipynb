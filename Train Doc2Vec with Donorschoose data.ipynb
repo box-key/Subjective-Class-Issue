{
 "cells": [
  {
   "cell_type": "code",
   "execution_count": 1,
   "metadata": {
    "colab": {},
    "colab_type": "code",
    "id": "a2qcX-jZXzCk"
   },
   "outputs": [],
   "source": [
    "import os\n",
    "import sys\n",
    "module_path = os.path.abspath(os.path.join('C:\\\\Users\\\\under\\\\Jupyter Projects\\My Research\\\\Donor Charity Matching\\\\utilities'))\n",
    "if module_path not in sys.path:\n",
    "    sys.path.append(module_path)\n",
    "    \n",
    "path_all = 'C:\\\\Users\\\\under\\\\Jupyter Projects\\\\My Research\\\\Donor Charity Matching\\\\data_donorschoose\\\\donorschoose_primary_subject.csv'"
   ]
  },
  {
   "cell_type": "code",
   "execution_count": 2,
   "metadata": {
    "colab": {},
    "colab_type": "code",
    "id": "LdnCCZQRXzCy"
   },
   "outputs": [
    {
     "name": "stderr",
     "output_type": "stream",
     "text": [
      "C:\\Users\\under\\AppData\\Local\\Continuum\\anaconda3\\lib\\site-packages\\gensim\\utils.py:1209: UserWarning: detected Windows; aliasing chunkize to chunkize_serial\n",
      "  warnings.warn(\"detected Windows; aliasing chunkize to chunkize_serial\")\n"
     ]
    }
   ],
   "source": [
    "# Imports\n",
    "from gensim.models.doc2vec import Doc2Vec, TaggedDocument\n",
    "import multiprocessing\n",
    "import numpy as np\n",
    "import pandas as pd"
   ]
  },
  {
   "cell_type": "code",
   "execution_count": 3,
   "metadata": {
    "colab": {},
    "colab_type": "code",
    "id": "nIdkf4MUXzC3",
    "outputId": "f1d9726a-8e13-4d5d-bac7-c67db337663c"
   },
   "outputs": [],
   "source": [
    "import time\n",
    "def print_time(start_time, opeartion='Operation'):\n",
    "    total = time.time() - start_time\n",
    "    print('In total,', opeartion, 'takes:', int(total/60), 'minute and', int(total%60), 'seconds')"
   ]
  },
  {
   "cell_type": "code",
   "execution_count": 0,
   "metadata": {
    "colab": {},
    "colab_type": "code",
    "id": "kEJnjtltXzDA",
    "outputId": "8cede2dd-92ab-48ee-ab9f-49606e9ef12e",
    "scrolled": true
   },
   "outputs": [
    {
     "name": "stderr",
     "output_type": "stream",
     "text": [
      "C:\\Users\\under\\AppData\\Local\\Continuum\\anaconda3\\lib\\site-packages\\IPython\\core\\interactiveshell.py:3049: DtypeWarning: Columns (50) have mixed types. Specify dtype option on import or set low_memory=False.\n",
      "  interactivity=interactivity, compiler=compiler, result=result)\n"
     ]
    },
    {
     "name": "stdout",
     "output_type": "stream",
     "text": [
      "0\n",
      "Number of rows in data = 1201597\n",
      "Number of columns in data = 52\n"
     ]
    },
    {
     "data": {
      "text/html": [
       "<div>\n",
       "<style scoped>\n",
       "    .dataframe tbody tr th:only-of-type {\n",
       "        vertical-align: middle;\n",
       "    }\n",
       "\n",
       "    .dataframe tbody tr th {\n",
       "        vertical-align: top;\n",
       "    }\n",
       "\n",
       "    .dataframe thead th {\n",
       "        text-align: right;\n",
       "    }\n",
       "</style>\n",
       "<table border=\"1\" class=\"dataframe\">\n",
       "  <thead>\n",
       "    <tr style=\"text-align: right;\">\n",
       "      <th></th>\n",
       "      <th>_projectid</th>\n",
       "      <th>_teacher_acctid</th>\n",
       "      <th>_schoolid</th>\n",
       "      <th>school_ncesid</th>\n",
       "      <th>school_latitude</th>\n",
       "      <th>school_longitude</th>\n",
       "      <th>school_city</th>\n",
       "      <th>school_state</th>\n",
       "      <th>school_zip</th>\n",
       "      <th>school_metro</th>\n",
       "      <th>...</th>\n",
       "      <th>date_thank_you_packet_mailed</th>\n",
       "      <th>date_expiration</th>\n",
       "      <th>_teacherid</th>\n",
       "      <th>title</th>\n",
       "      <th>short_description</th>\n",
       "      <th>need_statement</th>\n",
       "      <th>essay</th>\n",
       "      <th>thankyou_note</th>\n",
       "      <th>impact_letter</th>\n",
       "      <th>all_texts</th>\n",
       "    </tr>\n",
       "  </thead>\n",
       "  <tbody>\n",
       "    <tr>\n",
       "      <th>0</th>\n",
       "      <td>7342bd01a2a7725ce033a179d22e382d</td>\n",
       "      <td>5c43ef5eac0f5857c266baa1ccfa3d3f</td>\n",
       "      <td>9e72d6f2f1e9367b578b6479aa5852b7</td>\n",
       "      <td>3.600097e+11</td>\n",
       "      <td>40.688454</td>\n",
       "      <td>-73.910432</td>\n",
       "      <td>New York City</td>\n",
       "      <td>NY</td>\n",
       "      <td>11207.0</td>\n",
       "      <td>urban</td>\n",
       "      <td>...</td>\n",
       "      <td>2003-01-27 00:00:00</td>\n",
       "      <td>2003-12-31 00:00:00</td>\n",
       "      <td>5c43ef5eac0f5857c266baa1ccfa3d3f</td>\n",
       "      <td>Dry Erase / White Board</td>\n",
       "      <td>I am a first year teacher assigned to the 6th ...</td>\n",
       "      <td>The cost of this proposal is [price], includin...</td>\n",
       "      <td>I am a first year teacher assigned to the 6th ...</td>\n",
       "      <td>NaN</td>\n",
       "      <td>NaN</td>\n",
       "      <td>Dry Erase / White BoardI am a first year teach...</td>\n",
       "    </tr>\n",
       "    <tr>\n",
       "      <th>1</th>\n",
       "      <td>ed87d61cef7fda668ae70be7e0c6cebf</td>\n",
       "      <td>1f4493b3d3fe4a611f3f4d21a249376a</td>\n",
       "      <td>1ae4695be589a36816188e2b301a0395</td>\n",
       "      <td>3.600077e+11</td>\n",
       "      <td>40.765517</td>\n",
       "      <td>-73.960090</td>\n",
       "      <td>New York City</td>\n",
       "      <td>NY</td>\n",
       "      <td>10065.0</td>\n",
       "      <td>NaN</td>\n",
       "      <td>...</td>\n",
       "      <td>2003-01-03 00:00:00</td>\n",
       "      <td>2003-12-31 00:00:00</td>\n",
       "      <td>1f4493b3d3fe4a611f3f4d21a249376a</td>\n",
       "      <td>Who Says Talking to Yourself Is Crazy?:  Model...</td>\n",
       "      <td>I teach 9th grade Humanities at Vanguard High ...</td>\n",
       "      <td>The cost of this proposal is [price], includin...</td>\n",
       "      <td>I teach 9th grade Humanities at Vanguard High ...</td>\n",
       "      <td>NaN</td>\n",
       "      <td>NaN</td>\n",
       "      <td>Who Says Talking to Yourself Is Crazy?:  Model...</td>\n",
       "    </tr>\n",
       "    <tr>\n",
       "      <th>2</th>\n",
       "      <td>b56b502d25666e29550d107bf7e17910</td>\n",
       "      <td>57426949b47700ccf62098e1e9b0220c</td>\n",
       "      <td>4a06a328dd87bd29892d73310052f45f</td>\n",
       "      <td>3.600077e+11</td>\n",
       "      <td>40.770233</td>\n",
       "      <td>-73.950760</td>\n",
       "      <td>New York City</td>\n",
       "      <td>NY</td>\n",
       "      <td>10075.0</td>\n",
       "      <td>NaN</td>\n",
       "      <td>...</td>\n",
       "      <td>2002-12-19 00:00:00</td>\n",
       "      <td>2003-12-31 00:00:00</td>\n",
       "      <td>57426949b47700ccf62098e1e9b0220c</td>\n",
       "      <td>Provide Special Needs Students with Opportunit...</td>\n",
       "      <td>I just returned from 3 weeks in S. Africa. I w...</td>\n",
       "      <td>The cost of this proposal is [price], includin...</td>\n",
       "      <td>I just returned from 3 weeks in S. Africa.  I ...</td>\n",
       "      <td>NaN</td>\n",
       "      <td>NaN</td>\n",
       "      <td>Provide Special Needs Students with Opportunit...</td>\n",
       "    </tr>\n",
       "  </tbody>\n",
       "</table>\n",
       "<p>3 rows × 52 columns</p>\n",
       "</div>"
      ],
      "text/plain": [
       "                         _projectid                   _teacher_acctid  \\\n",
       "0  7342bd01a2a7725ce033a179d22e382d  5c43ef5eac0f5857c266baa1ccfa3d3f   \n",
       "1  ed87d61cef7fda668ae70be7e0c6cebf  1f4493b3d3fe4a611f3f4d21a249376a   \n",
       "2  b56b502d25666e29550d107bf7e17910  57426949b47700ccf62098e1e9b0220c   \n",
       "\n",
       "                          _schoolid  school_ncesid  school_latitude  \\\n",
       "0  9e72d6f2f1e9367b578b6479aa5852b7   3.600097e+11        40.688454   \n",
       "1  1ae4695be589a36816188e2b301a0395   3.600077e+11        40.765517   \n",
       "2  4a06a328dd87bd29892d73310052f45f   3.600077e+11        40.770233   \n",
       "\n",
       "   school_longitude    school_city school_state  school_zip school_metro  ...  \\\n",
       "0        -73.910432  New York City           NY     11207.0        urban  ...   \n",
       "1        -73.960090  New York City           NY     10065.0          NaN  ...   \n",
       "2        -73.950760  New York City           NY     10075.0          NaN  ...   \n",
       "\n",
       "  date_thank_you_packet_mailed      date_expiration  \\\n",
       "0          2003-01-27 00:00:00  2003-12-31 00:00:00   \n",
       "1          2003-01-03 00:00:00  2003-12-31 00:00:00   \n",
       "2          2002-12-19 00:00:00  2003-12-31 00:00:00   \n",
       "\n",
       "                         _teacherid  \\\n",
       "0  5c43ef5eac0f5857c266baa1ccfa3d3f   \n",
       "1  1f4493b3d3fe4a611f3f4d21a249376a   \n",
       "2  57426949b47700ccf62098e1e9b0220c   \n",
       "\n",
       "                                               title  \\\n",
       "0                            Dry Erase / White Board   \n",
       "1  Who Says Talking to Yourself Is Crazy?:  Model...   \n",
       "2  Provide Special Needs Students with Opportunit...   \n",
       "\n",
       "                                   short_description  \\\n",
       "0  I am a first year teacher assigned to the 6th ...   \n",
       "1  I teach 9th grade Humanities at Vanguard High ...   \n",
       "2  I just returned from 3 weeks in S. Africa. I w...   \n",
       "\n",
       "                                      need_statement  \\\n",
       "0  The cost of this proposal is [price], includin...   \n",
       "1  The cost of this proposal is [price], includin...   \n",
       "2  The cost of this proposal is [price], includin...   \n",
       "\n",
       "                                               essay thankyou_note  \\\n",
       "0  I am a first year teacher assigned to the 6th ...           NaN   \n",
       "1  I teach 9th grade Humanities at Vanguard High ...           NaN   \n",
       "2  I just returned from 3 weeks in S. Africa.  I ...           NaN   \n",
       "\n",
       "  impact_letter                                          all_texts  \n",
       "0           NaN  Dry Erase / White BoardI am a first year teach...  \n",
       "1           NaN  Who Says Talking to Yourself Is Crazy?:  Model...  \n",
       "2           NaN  Provide Special Needs Students with Opportunit...  \n",
       "\n",
       "[3 rows x 52 columns]"
      ]
     },
     "execution_count": 3,
     "metadata": {
      "tags": []
     },
     "output_type": "execute_result"
    }
   ],
   "source": [
    "# Import CSV data\n",
    "df_all = pd.read_csv(path_all)\n",
    "df_all['all_texts'] = df_all['title'] + df_all['short_description'] + df_all['need_statement'] + df_all['essay']\n",
    "df_all = df_all.dropna(subset=['all_texts'])\n",
    "print(df_all['all_texts'].isnull().sum())\n",
    "df_all.dropna(axis=0, how='all', inplace=True)\n",
    "print(\"Number of rows in data =\", df_all.shape[0])\n",
    "print(\"Number of columns in data =\", df_all.shape[1])\n",
    "df_all.head(3)"
   ]
  },
  {
   "cell_type": "code",
   "execution_count": 0,
   "metadata": {
    "colab": {},
    "colab_type": "code",
    "id": "yF9k1LPOXzDM",
    "outputId": "c39bfae9-4fe6-4e71-9b34-8b6f93954444"
   },
   "outputs": [
    {
     "name": "stdout",
     "output_type": "stream",
     "text": [
      "In total, Clean corpora takes: 1 minute and 42 seconds\n"
     ]
    },
    {
     "data": {
      "application/javascript": [
       "$(document).ready(\n",
       "    function() {\n",
       "        function appendUniqueDiv(){\n",
       "            // append a div with our uuid so we can check that it's already\n",
       "            // been sent and avoid duplicates on page reload\n",
       "            var notifiedDiv = document.createElement(\"div\")\n",
       "            notifiedDiv.id = \"a4332731-f09e-4047-abdc-906bcdfcda57\"\n",
       "            element.append(notifiedDiv)\n",
       "        }\n",
       "\n",
       "        // only send notifications if the pageload is complete; this will\n",
       "        // help stop extra notifications when a saved notebook is loaded,\n",
       "        // which during testing gives us state \"interactive\", not \"complete\"\n",
       "        if (document.readyState === 'complete') {\n",
       "            // check for the div that signifies that the notification\n",
       "            // was already sent\n",
       "            if (document.getElementById(\"a4332731-f09e-4047-abdc-906bcdfcda57\") === null) {\n",
       "                var notificationPayload = {\"requireInteraction\": false, \"icon\": \"/static/base/images/favicon.ico\", \"body\": \"Cell execution has finished!\"};\n",
       "                if (Notification.permission !== 'denied') {\n",
       "                    if (Notification.permission !== 'granted') { \n",
       "                        Notification.requestPermission(function (permission) {\n",
       "                            if(!('permission' in Notification)) {\n",
       "                                Notification.permission = permission\n",
       "                            }\n",
       "                        })\n",
       "                    }\n",
       "                    if (Notification.permission === 'granted') {\n",
       "                    var notification = new Notification(\"Jupyter Notebook\", notificationPayload)\n",
       "                    appendUniqueDiv()\n",
       "                    notification.onclick = function () {\n",
       "                        window.focus();\n",
       "                        this.close();\n",
       "                        };\n",
       "                    } \n",
       "                }     \n",
       "            }\n",
       "        }\n",
       "    }\n",
       ")\n"
      ],
      "text/plain": [
       "<IPython.core.display.Javascript object>"
      ]
     },
     "metadata": {
      "tags": []
     },
     "output_type": "display_data"
    }
   ],
   "source": [
    "docs = clean_corpora(df_all['all_texts'])"
   ]
  },
  {
   "cell_type": "code",
   "execution_count": 0,
   "metadata": {
    "colab": {},
    "colab_type": "code",
    "id": "b4bwXy3zXzDT"
   },
   "outputs": [],
   "source": [
    "%%notify\n",
    "tagged_docs = pd.DataFrame(docs).apply(lambda x: TaggedDocument(x.values[0].split(), tags=x.name), axis=1)\n",
    "tagged_docs.shape"
   ]
  },
  {
   "cell_type": "code",
   "execution_count": 0,
   "metadata": {
    "colab": {},
    "colab_type": "code",
    "id": "MVG66tdpXzDY",
    "outputId": "f54298e9-2130-4208-e119-92e90732f6b5",
    "scrolled": true
   },
   "outputs": [
    {
     "name": "stdout",
     "output_type": "stream",
     "text": [
      "8\n"
     ]
    },
    {
     "name": "stderr",
     "output_type": "stream",
     "text": [
      "C:\\Users\\under\\AppData\\Local\\Continuum\\anaconda3\\lib\\site-packages\\gensim\\models\\doc2vec.py:531: UserWarning: The parameter `iter` is deprecated, will be removed in 4.0.0, use `epochs` instead.\n",
      "  warnings.warn(\"The parameter `iter` is deprecated, will be removed in 4.0.0, use `epochs` instead.\")\n",
      "C:\\Users\\under\\AppData\\Local\\Continuum\\anaconda3\\lib\\site-packages\\gensim\\models\\doc2vec.py:535: UserWarning: The parameter `size` is deprecated, will be removed in 4.0.0, use `vector_size` instead.\n",
      "  warnings.warn(\"The parameter `size` is deprecated, will be removed in 4.0.0, use `vector_size` instead.\")\n",
      "C:\\Users\\under\\AppData\\Local\\Continuum\\anaconda3\\lib\\site-packages\\gensim\\models\\base_any2vec.py:618: UserWarning: C extension not loaded, training will be slow. Install a C compiler and reinstall gensim for fast training.\n",
      "  \"C extension not loaded, training will be slow. \"\n",
      "C:\\Users\\under\\AppData\\Local\\Continuum\\anaconda3\\lib\\site-packages\\gensim\\models\\doc2vec.py:531: UserWarning: The parameter `iter` is deprecated, will be removed in 4.0.0, use `epochs` instead.\n",
      "  warnings.warn(\"The parameter `iter` is deprecated, will be removed in 4.0.0, use `epochs` instead.\")\n",
      "C:\\Users\\under\\AppData\\Local\\Continuum\\anaconda3\\lib\\site-packages\\gensim\\models\\doc2vec.py:535: UserWarning: The parameter `size` is deprecated, will be removed in 4.0.0, use `vector_size` instead.\n",
      "  warnings.warn(\"The parameter `size` is deprecated, will be removed in 4.0.0, use `vector_size` instead.\")\n",
      "C:\\Users\\under\\AppData\\Local\\Continuum\\anaconda3\\lib\\site-packages\\gensim\\models\\base_any2vec.py:618: UserWarning: C extension not loaded, training will be slow. Install a C compiler and reinstall gensim for fast training.\n",
      "  \"C extension not loaded, training will be slow. \"\n"
     ]
    }
   ],
   "source": [
    "cores = multiprocessing.cpu_count()\n",
    "print(cores)\n",
    "\n",
    "models = [\n",
    "    # PV-DBOW \n",
    "    Doc2Vec(dm=0, dbow_words=1, size=300, window=8, min_count=10, iter=10, workers=cores),\n",
    "    # PV-DM w/average\n",
    "    Doc2Vec(dm=1, dm_mean=1, size=300, window=8, min_count=10, iter =10, workers=cores),\n",
    "]"
   ]
  },
  {
   "cell_type": "code",
   "execution_count": 0,
   "metadata": {
    "colab": {},
    "colab_type": "code",
    "id": "6CXUlFJSXzDf"
   },
   "outputs": [],
   "source": [
    "start_time = time.time()\n",
    "models[0].build_vocab(documents)\n",
    "print(str(models[0]))\n",
    "models[1].reset_from(models[0])\n",
    "print(str(models[1]))\n",
    "print_time(start_time)"
   ]
  },
  {
   "cell_type": "code",
   "execution_count": 0,
   "metadata": {
    "colab": {},
    "colab_type": "code",
    "id": "p7e_RV84XzDm"
   },
   "outputs": [],
   "source": [
    "for model in models:\n",
    "    start_time = time.time()\n",
    "    model.train(tagged_docs, total_examples=model.corpus_count, epochs=model.iter)\n",
    "    print_time(start_time)"
   ]
  },
  {
   "cell_type": "code",
   "execution_count": null,
   "metadata": {},
   "outputs": [],
   "source": [
    "start_time = time.time()\n",
    "docs = docs.apply(dbow.infer_vector, steps=20)\n",
    "print_time(start_time)"
   ]
  },
  {
   "cell_type": "code",
   "execution_count": null,
   "metadata": {},
   "outputs": [],
   "source": [
    "with open('donorschoose_doc2vec.csv', 'w', encoding=\"utf-8\", newline='\\n') as f:\n",
    "    X.to_csv(f, header=True, index=False)"
   ]
  }
 ],
 "metadata": {
  "colab": {
   "name": "Train Doc2Vec with Donorschoose data.ipynb",
   "provenance": []
  },
  "kernelspec": {
   "display_name": "Python 3",
   "language": "python",
   "name": "python3"
  },
  "language_info": {
   "codemirror_mode": {
    "name": "ipython",
    "version": 3
   },
   "file_extension": ".py",
   "mimetype": "text/x-python",
   "name": "python",
   "nbconvert_exporter": "python",
   "pygments_lexer": "ipython3",
   "version": "3.7.3"
  }
 },
 "nbformat": 4,
 "nbformat_minor": 1
}
